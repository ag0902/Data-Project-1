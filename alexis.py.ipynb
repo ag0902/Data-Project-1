{
 "cells": [
  {
   "cell_type": "code",
   "execution_count": null,
   "id": "d3fb47d8-24f9-488c-b66c-c4e1fb963db2",
   "metadata": {},
   "outputs": [],
   "source": [
    "import pandas as pd\n",
    "from pathlib import Path"
   ]
  },
  {
   "cell_type": "code",
   "execution_count": null,
   "id": "5ed8f3f9-f71d-476e-9849-8ac0e5eff11d",
   "metadata": {},
   "outputs": [],
   "source": [
    "nyc_arrests = Path(\"\")"
   ]
  },
  {
   "cell_type": "code",
   "execution_count": null,
   "id": "24130c23-6548-4049-8d17-3db49374cb77",
   "metadata": {},
   "outputs": [],
   "source": []
  }
 ],
 "metadata": {
  "kernelspec": {
   "display_name": "Python 3 (ipykernel)",
   "language": "python",
   "name": "python3"
  },
  "language_info": {
   "codemirror_mode": {
    "name": "ipython",
    "version": 3
   },
   "file_extension": ".py",
   "mimetype": "text/x-python",
   "name": "python",
   "nbconvert_exporter": "python",
   "pygments_lexer": "ipython3",
   "version": "3.12.4"
  }
 },
 "nbformat": 4,
 "nbformat_minor": 5
}
